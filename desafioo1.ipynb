{
 "cells": [
  {
   "cell_type": "code",
   "execution_count": 2,
   "metadata": {},
   "outputs": [],
   "source": [
    "#!pip install plyer\n",
    "from datetime import datetime\n",
    "from plyer import notification\n",
    "notification.notify(\n",
    "    title='Título',\n",
    "    message='Mensagem',\n",
    "    app_name='Nome do app',\n",
    "    timeout=10\n",
    ") \n",
    "\n"
   ]
  },
  {
   "cell_type": "code",
   "execution_count": 7,
   "metadata": {},
   "outputs": [],
   "source": [
    "# Criando a função que ao ser chamada exibe a notificação\n",
    "def alerta(nivel = 2, base = \"CLIENTES\", etapa = \"EXTRAÇÃO\"):\n",
    "    alerta = {1:\"Alerta Baixo\", 2:\"Alerta Médio\", 3:\"Alerta Alto\"}\n",
    "    agora = str(datetime.now())\n",
    "    \n",
    "    return notification.notify(f'ATENÇÃO: {alerta[nivel]}',f'Falha no carregamento da {base} na etapa {etapa} | {agora[:19]}' )\n",
    "\n",
    "#Executando a função alerta com exemplo\n",
    "alerta(3,\"usuários\",\"tratamento\")    "
   ]
  }
 ],
 "metadata": {
  "kernelspec": {
   "display_name": "Python 3",
   "language": "python",
   "name": "python3"
  },
  "language_info": {
   "codemirror_mode": {
    "name": "ipython",
    "version": 3
   },
   "file_extension": ".py",
   "mimetype": "text/x-python",
   "name": "python",
   "nbconvert_exporter": "python",
   "pygments_lexer": "ipython3",
   "version": "3.11.7"
  }
 },
 "nbformat": 4,
 "nbformat_minor": 2
}
