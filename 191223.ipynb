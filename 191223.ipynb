{
 "cells": [
  {
   "cell_type": "code",
   "execution_count": 6,
   "metadata": {},
   "outputs": [],
   "source": [
    "# Aula 3 - 19/12\n",
    "x = 1\n",
    "if not x:\n",
    "    print(\"sim\")"
   ]
  },
  {
   "cell_type": "code",
   "execution_count": 16,
   "metadata": {},
   "outputs": [
    {
     "name": "stdout",
     "output_type": "stream",
     "text": [
      "[0, 2, 4, 6, 8, 10, 12, 14, 16, 18]\n"
     ]
    }
   ],
   "source": [
    "lista = []\n",
    "iten = 0\n",
    "for iten in range(0,20,2):\n",
    "    lista.append(iten)\n",
    "\n",
    "print(lista)"
   ]
  },
  {
   "cell_type": "code",
   "execution_count": 25,
   "metadata": {},
   "outputs": [
    {
     "name": "stdout",
     "output_type": "stream",
     "text": [
      "[5]\n",
      "[5, 8]\n",
      "[5, 8, 1]\n",
      "[5, 8, 1, 6]\n",
      "[5, 8, 1, 6, 9]\n",
      "[5, 8, 1, 6, 9, 2]\n",
      "[5, 8, 1, 6, 9, 2, 7]\n",
      "[5, 8, 1, 6, 9, 2, 7, 10]\n",
      "[5, 8, 1, 6, 9, 2, 7, 10, 3]\n",
      "[5, 8, 1, 6, 9, 2, 7, 10, 3, 8]\n"
     ]
    }
   ],
   "source": [
    "\n",
    "\n",
    "lista = []\n",
    "intervalo = [5,8,1]\n",
    "iten = 0\n",
    "for iten in intervalo:\n",
    "    lista.append(iten)\n",
    "    intervalo.append(iten+1)\n",
    "    if iten > 10: \n",
    "        break\n",
    "    print(lista)\n"
   ]
  },
  {
   "cell_type": "code",
   "execution_count": 27,
   "metadata": {},
   "outputs": [
    {
     "name": "stdout",
     "output_type": "stream",
     "text": [
      "O número 2 é par\n"
     ]
    }
   ],
   "source": [
    "# Escreva um programa que receba um número inteiro e exiba se ele é par ou ímpar.\n",
    "\n",
    "numero = 0 \n",
    "\n",
    "numero = int(input(\"Insira um número inteiro\"))\n",
    "if numero%2 == 0:\n",
    "    print(f\"O número {numero} é par\")\n",
    "else:\n",
    "     print(f\"O número {numero} é impar\")   "
   ]
  },
  {
   "cell_type": "code",
   "execution_count": 19,
   "metadata": {},
   "outputs": [
    {
     "name": "stdout",
     "output_type": "stream",
     "text": [
      "boa 3\n",
      "noite 5\n"
     ]
    }
   ],
   "source": [
    "#Escreva um programa em Python que solicita ao usuário uma frase e, em seguida, exibe cada palavra e seu número de caracteres.\n",
    "\n",
    "frase = input(\"Insira uma frase\")\n",
    "frase = frase.split()\n",
    "i = 0\n",
    "\n",
    "for i in range(len(frase)):\n",
    "    print(frase[i]+\" \"+str(len(frase[i])))"
   ]
  },
  {
   "cell_type": "code",
   "execution_count": 23,
   "metadata": {},
   "outputs": [
    {
     "name": "stdout",
     "output_type": "stream",
     "text": [
      "senha aceita\n"
     ]
    }
   ],
   "source": [
    "#Crie um programa em Python que solicita ao usuário uma senha numérica de 4 dígitos. O programa deve repetir essa solicitação até que o usuário informe a senha correta (1234).\n",
    "\n",
    "senha = int(input(\"Insira uma senha numérica de 4 dígitos\"))\n",
    "\n",
    "while senha != 1234:\n",
    "    senha = int(input(\"Essa senha não vale.Insira uma senha numérica de 4 dígitos\"))\n",
    "\n",
    "print(\"senha aceita\")"
   ]
  },
  {
   "cell_type": "code",
   "execution_count": 16,
   "metadata": {},
   "outputs": [
    {
     "name": "stdout",
     "output_type": "stream",
     "text": [
      "O fatorial de 44 é = 2658271574788448768043625811014615890319638528000000000\n"
     ]
    }
   ],
   "source": [
    "# Escreva um programa que dado um valor n calcula o fatorial de n.\n",
    "\n",
    "resultado = 1\n",
    "n = int(input(\"Insira um número para n\"))\n",
    "valor = n\n",
    "\n",
    "while n>1:\n",
    "    resultado=n*resultado\n",
    "    n=n-1\n",
    "print(f\"O fatorial de {valor} é = {resultado}\")\n"
   ]
  },
  {
   "cell_type": "code",
   "execution_count": 39,
   "metadata": {},
   "outputs": [
    {
     "name": "stdout",
     "output_type": "stream",
     "text": [
      "{'Jan': 232}\n"
     ]
    },
    {
     "ename": "ValueError",
     "evalue": "invalid literal for int() with base 10: 'd'",
     "output_type": "error",
     "traceback": [
      "\u001b[1;31m---------------------------------------------------------------------------\u001b[0m",
      "\u001b[1;31mValueError\u001b[0m                                Traceback (most recent call last)",
      "Cell \u001b[1;32mIn[39], line 6\u001b[0m\n\u001b[0;32m      4\u001b[0m \u001b[38;5;28;01mfor\u001b[39;00m linhas \u001b[38;5;129;01min\u001b[39;00m \u001b[38;5;28mrange\u001b[39m(\u001b[38;5;241m4\u001b[39m):\n\u001b[0;32m      5\u001b[0m     mes \u001b[38;5;241m=\u001b[39m \u001b[38;5;28minput\u001b[39m(\u001b[38;5;124m\"\u001b[39m\u001b[38;5;124mInsira o mês\u001b[39m\u001b[38;5;124m\"\u001b[39m)\n\u001b[1;32m----> 6\u001b[0m     quantidade \u001b[38;5;241m=\u001b[39m \u001b[38;5;28;43mint\u001b[39;49m\u001b[43m(\u001b[49m\u001b[38;5;28;43minput\u001b[39;49m\u001b[43m(\u001b[49m\u001b[38;5;124;43m\"\u001b[39;49m\u001b[38;5;124;43mInsira a quantidade\u001b[39;49m\u001b[38;5;124;43m\"\u001b[39;49m\u001b[43m)\u001b[49m\u001b[43m)\u001b[49m\n\u001b[0;32m      8\u001b[0m     dicionário[mes] \u001b[38;5;241m=\u001b[39m quantidade\n\u001b[0;32m      9\u001b[0m     \u001b[38;5;28mprint\u001b[39m(dicionário)\n",
      "\u001b[1;31mValueError\u001b[0m: invalid literal for int() with base 10: 'd'"
     ]
    }
   ],
   "source": [
    "# Crie um dicionário com os dados da tabela ao lado, crie um loop para exibir os valores.\n",
    "dicionário = {\"Jan\":232}\n",
    "\n",
    "for linhas in range(4):\n",
    "    mes = input(\"Insira o mês\")\n",
    "    quantidade = int(input(\"Insira a quantidade\"))\n",
    "\n",
    "    dicionário[mes] = quantidade\n",
    "    print(dicionário)"
   ]
  },
  {
   "cell_type": "code",
   "execution_count": null,
   "metadata": {},
   "outputs": [],
   "source": []
  }
 ],
 "metadata": {
  "kernelspec": {
   "display_name": "Python 3",
   "language": "python",
   "name": "python3"
  },
  "language_info": {
   "codemirror_mode": {
    "name": "ipython",
    "version": 3
   },
   "file_extension": ".py",
   "mimetype": "text/x-python",
   "name": "python",
   "nbconvert_exporter": "python",
   "pygments_lexer": "ipython3",
   "version": "3.11.7"
  }
 },
 "nbformat": 4,
 "nbformat_minor": 2
}
