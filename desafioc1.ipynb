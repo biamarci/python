{
 "cells": [
  {
   "cell_type": "code",
   "execution_count": 17,
   "metadata": {},
   "outputs": [
    {
     "name": "stdout",
     "output_type": "stream",
     "text": [
      "Seu IMC é 23.285770907649624\n"
     ]
    }
   ],
   "source": [
    "# Cálculo do IMC\n",
    "\n",
    "peso = 0\n",
    "altura = 0\n",
    "imc = 0\n",
    "peso = input(\"Qual é o seu peso? (em quilos)\")\n",
    "altura = input(\"Qual é a sua altura? (em metros)\")\n",
    "\n",
    "imc = float(peso)/float(altura)**2\n",
    "\n",
    "print(f\"Seu IMC é {imc}\")\n"
   ]
  },
  {
   "cell_type": "code",
   "execution_count": 19,
   "metadata": {},
   "outputs": [
    {
     "name": "stdout",
     "output_type": "stream",
     "text": [
      "Esta é a lista final ['5', '3', '75', '4', '64']\n"
     ]
    }
   ],
   "source": [
    "# Lista de 5 números\n",
    "\n",
    "lista_inteiros = []\n",
    "\n",
    "lista_inteiros.append(int(input(\"Insira o 1º número inteiro da lista\")))\n",
    "lista_inteiros.append(int(input(\"Insira o 2º número inteiro da lista\")))\n",
    "lista_inteiros.append(int(input(\"Insira o 3º número inteiro da lista\")))\n",
    "lista_inteiros.append(int(input(\"Insira o 4º número inteiro da lista\")))\n",
    "lista_inteiros.append(int(input(\"Insira o 5º número inteiro da lista\")))\n",
    "\n",
    "print(f\"Esta é a sua lista de números inteiros {lista_inteiros}\")"
   ]
  },
  {
   "cell_type": "code",
   "execution_count": 23,
   "metadata": {},
   "outputs": [
    {
     "name": "stdout",
     "output_type": "stream",
     "text": [
      "Essa é a sua lista de nomes ['Carlos', ' Abigail', ' Amanda', ' Zé Felipe', ' Ana Clara']\n"
     ]
    }
   ],
   "source": [
    "# Lista de Nomes\n",
    "\n",
    "lista_nomes = []\n",
    "resposta = \"\"\n",
    "\n",
    "resposta = input(\"Insira a sequencia de nomes separados por vírgula\")\n",
    "\n",
    "lista_nomes = resposta.split(\",\")\n",
    "\n",
    "print(f\"Essa é a sua lista de nomes {lista_nomes}\")\n"
   ]
  }
 ],
 "metadata": {
  "kernelspec": {
   "display_name": "Python 3",
   "language": "python",
   "name": "python3"
  },
  "language_info": {
   "codemirror_mode": {
    "name": "ipython",
    "version": 3
   },
   "file_extension": ".py",
   "mimetype": "text/x-python",
   "name": "python",
   "nbconvert_exporter": "python",
   "pygments_lexer": "ipython3",
   "version": "3.11.7"
  }
 },
 "nbformat": 4,
 "nbformat_minor": 2
}
