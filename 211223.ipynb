{
 "cells": [
  {
   "cell_type": "code",
   "execution_count": 7,
   "metadata": {},
   "outputs": [
    {
     "data": {
      "text/plain": [
       "False"
      ]
     },
     "execution_count": 7,
     "metadata": {},
     "output_type": "execute_result"
    }
   ],
   "source": [
    "# Aula 4 - 21/12\n",
    "\n",
    "#1. Crie uma função lambda chamada eh_multiplo_dez() que retorna True se um determinado número é múltiplo de 10 e False caso contrário.\n",
    "\n",
    "multiplica = lambda xy:  x*y\n",
    "eh_multiplo_dez = lambda x : x%10 == 0\n",
    "\n",
    "eh_multiplo_dez(215)\n",
    "\n"
   ]
  },
  {
   "cell_type": "code",
   "execution_count": 13,
   "metadata": {},
   "outputs": [
    {
     "name": "stdout",
     "output_type": "stream",
     "text": [
      "O fatorial de 52 é = 80658175170943878571660636856403766975289505440883277824000000000000\n"
     ]
    }
   ],
   "source": [
    "#2. Converta o programa de cálculo de fatorial da aula anterior para uma função. A função recebe como argumento o n e retorna o fatorial de n.\n",
    "\n",
    "def fatorial (n):\n",
    "    resultado = 1\n",
    "    valor = n\n",
    "\n",
    "    while n>1:\n",
    "        resultado=n*resultado\n",
    "        n=n-1\n",
    "    return print(f\"O fatorial de {valor} é = {resultado}\")\n",
    "\n",
    "fatorial(52)"
   ]
  },
  {
   "cell_type": "code",
   "execution_count": 45,
   "metadata": {},
   "outputs": [
    {
     "data": {
      "text/plain": [
       "['João', 'Maria', 'Ana', 'Ana']"
      ]
     },
     "execution_count": 45,
     "metadata": {},
     "output_type": "execute_result"
    }
   ],
   "source": [
    "#3. Crie uma função primeiro_nome que recebe uma string com o nome completo e retorna somente o primeiro nome. Em seguida, use a função map para aplicar a função a uma lista de strings:\n",
    "\n",
    "nomes = ['João Carlos', 'Maria Eduarda','Ana Rute', 'Ana Clara']\n",
    "\n",
    "def primeiro_nome (lista):\n",
    "    primeiro = lista.split()\n",
    "    return primeiro[0]\n",
    "\n",
    "resultado = list(map(primeiro_nome, nomes))\n",
    "resultado"
   ]
  },
  {
   "cell_type": "code",
   "execution_count": 69,
   "metadata": {},
   "outputs": [
    {
     "name": "stdout",
     "output_type": "stream",
     "text": [
      "O dia da semana é Thursday\n"
     ]
    }
   ],
   "source": [
    "#4. Escreva uma função que receba uma data no formato dd/mm/aaaa e retorne o dia da semana correspondente (Monday, Tuesday, etc.).\n",
    "\n",
    "from datetime import date\n",
    "\n",
    "data = input(\"Escolha uma data no formato dd/mm/aaaa\")\n",
    "dia, mes, ano = map(int,data.split(\"/\"))\n",
    "data = date(ano, mes, dia)\n",
    "\n",
    "dia_da_semana = data.weekday()\n",
    "\n",
    "dicionário = {0:\"Monday\", 1:\"Tuesday\", 2:\"Wednesday\", 3:\"Thursday\", 4:\"Friday\", 5:\"Saturday\", 6:\"Sunday\"}\n",
    "\n",
    "print(f\"O dia da semana é {dicionário[dia_da_semana]}\")\n",
    "\n"
   ]
  },
  {
   "cell_type": "code",
   "execution_count": 36,
   "metadata": {},
   "outputs": [],
   "source": [
    "#!pip install plyer\n",
    "from plyer import notification\n",
    "notification.notify(\n",
    "    title='Título',\n",
    "    message='Mensagem',\n",
    "    app_name='Nome do app',\n",
    "    timeout=10\n",
    ") "
   ]
  }
 ],
 "metadata": {
  "kernelspec": {
   "display_name": "Python 3",
   "language": "python",
   "name": "python3"
  },
  "language_info": {
   "codemirror_mode": {
    "name": "ipython",
    "version": 3
   },
   "file_extension": ".py",
   "mimetype": "text/x-python",
   "name": "python",
   "nbconvert_exporter": "python",
   "pygments_lexer": "ipython3",
   "version": "3.11.7"
  }
 },
 "nbformat": 4,
 "nbformat_minor": 2
}
